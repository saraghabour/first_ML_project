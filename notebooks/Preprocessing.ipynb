{
 "cells": [
  {
   "cell_type": "code",
   "execution_count": null,
   "metadata": {},
   "outputs": [],
   "source": [
    "#constans\n",
    "DATA_PATH = 'C:/Users/Ahmed Sadek/ete_project/ml_project/data/raw/survey_results_public.csv'\n",
    "EXPORT_PATH = 'C:/Users/Ahmed Sadek/ete_project/ml_project/data/processed/preprocessed_df.pkl'\n",
    "\n",
    "REPLACED = {\n",
    "    'YearsCodePro' : {'Less than 1 year':0,'More than 50 years':51},\n",
    "    'YearsCode' : {'Less than 1 year':0,'More than 50 years':51},\n",
    "    'Age1stCode' : {'Older than 85 years':86, 'Younger than 5 years':4}}\n"
   ]
  },
  {
   "cell_type": "code",
   "execution_count": null,
   "metadata": {},
   "outputs": [],
   "source": [
    "#load packages\n",
    "import  pandas as pd\n",
    "import numpy as np\n",
    "import  logging\n",
    "import pickle"
   ]
  },
  {
   "cell_type": "code",
   "execution_count": null,
   "metadata": {},
   "outputs": [],
   "source": [
    "def split_answers(data_series,delimiter=';'):\n",
    "    \"\"\"\n",
    "    Split  multiple answers in a single string\n",
    "    to a list of single strings each representing a single answer\n",
    "    \n",
    "    prameters:\n",
    "    * data_series (pd.series) :string series with answers \n",
    "    * delimiter (string) Another decimal integer \n",
    "              Default to ;\n",
    "     \n",
    "     Returns :(pd.series) :If column contains\n",
    "    \"\"\"\n",
    "    \n",
    "    \n",
    "    #sub_Functions\n",
    "    def is_splittable(dp_series, delimiter):\n",
    "        \"\"\"check if results multiple should be splitted - returened boolean\"\"\"\n",
    "        return pd_series.str.contains(delimiter)\n",
    "  \n",
    "    def split_answer(dp_series, delimier):\n",
    "        \"\"\"Function to split single answer\"\"\"\n",
    "        return pd_series.str.split(delimiter)\n",
    "    \n",
    "    #check if multiple answers exists - if non return orginal\n",
    "    splittable_values = is_splittable(data_series, delimiter)\n",
    "    if not splittable_values.any():\n",
    "        data_series\n",
    "    \n",
    "    #Else, split each value to list\n",
    "    modifie_series = split_answer(data_series,delimiter)\n",
    "    \n",
    "    \n",
    "    #Replace NAs with a list\n",
    "    masked_null = modified_series.isull()\n",
    "    modified_series.loc[masked_null] = modified_series.loc[masked_null].apply(lambda x :[])\n",
    "    \n",
    "    return modified_series "
   ]
  },
  {
   "cell_type": "code",
   "execution_count": null,
   "metadata": {},
   "outputs": [],
   "source": [
    "#preprocessing Dataset \n",
    "raw_df = pd.read_csv(DATA_PATH)\n",
    "df = raw_df.copy()\n",
    "df.info()"
   ]
  },
  {
   "cell_type": "code",
   "execution_count": null,
   "metadata": {},
   "outputs": [],
   "source": [
    "#replace value and parse \n",
    "for col, replacement in REPLACED.items():\n",
    "    df[col] = df[col].replace(replacement).astype(np.float32)\n",
    "    "
   ]
  },
  {
   "cell_type": "code",
   "execution_count": null,
   "metadata": {},
   "outputs": [],
   "source": [
    "#SPLits Answers \n",
    "object_cols = df.select_dtypes(include='object').columns.tolist()\n",
    "for col in object_cols:\n",
    "    df[col] = split_answer(df[col])"
   ]
  },
  {
   "cell_type": "code",
   "execution_count": null,
   "metadata": {},
   "outputs": [],
   "source": [
    "df.to_pickle(EXPORT_PATH)"
   ]
  }
 ],
 "metadata": {
  "kernelspec": {
   "display_name": "Python 3",
   "language": "python",
   "name": "python3"
  },
  "language_info": {
   "codemirror_mode": {
    "name": "ipython",
    "version": 3
   },
   "file_extension": ".py",
   "mimetype": "text/x-python",
   "name": "python",
   "nbconvert_exporter": "python",
   "pygments_lexer": "ipython3",
   "version": "3.8.5"
  }
 },
 "nbformat": 4,
 "nbformat_minor": 4
}
